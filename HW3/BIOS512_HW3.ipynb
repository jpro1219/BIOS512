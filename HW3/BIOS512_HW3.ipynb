{
  "cells": [
    {
      "cell_type": "markdown",
      "id": "45ef956f",
      "metadata": {
        "id": "45ef956f"
      },
      "source": [
        "# Homework 03 - Nonstandard Evaluation and Git\n",
        "\n",
        "## Nonstandard Evaluation\n"
      ]
    },
    {
      "cell_type": "markdown",
      "id": "7cd69759",
      "metadata": {
        "vscode": {
          "languageId": "r"
        },
        "id": "7cd69759"
      },
      "source": [
        "### Question 1\n",
        "Imagine we have a data frame called `data`, with a `type` column. Which one works and why?\\\n",
        "Function 1:\n",
        "```\n",
        "group_and_tally <- function(df, column){\n",
        "    df %>% group_by({{ column }}) %>% tally();\n",
        "}\n",
        "group_and_tally(data, type);\n",
        "```\n",
        "\n",
        "Function 2:\n",
        "```\n",
        "group_and_tally <- function(df, column){\n",
        "    df %>% group_by(column) %>% tally();\n",
        "}\n",
        "group_and_tally(data, type);\n",
        "```\n",
        "\n",
        "The first function works. This is because the double brackets allow our computing environment to read the variable we assign to column rather than column as its own object, as in the second function"
      ]
    },
    {
      "cell_type": "markdown",
      "id": "d0653501",
      "metadata": {
        "id": "d0653501"
      },
      "source": [
        "## Git\n",
        "For the questions below, please add the commands you used to complete these steps.\n",
        "\n",
        "### Question 2\n",
        "Set up your git repo on your local computer. If you already make a git repo on GitHub, but it isn’t on your local computer - clone it.\n",
        "\n",
        "git clone https://github.com/jpro1219/BIOS512"
      ]
    },
    {
      "cell_type": "markdown",
      "id": "9639ba6c",
      "metadata": {
        "vscode": {
          "languageId": "shellscript"
        },
        "id": "9639ba6c"
      },
      "source": [
        "### Question 3\n",
        "Set up your SSH key.\n",
        "\n",
        "cd C:\\Users\\jonah\\.ssh\n",
        "mkdir ssh-keys\n",
        "cd ssh-keys/\n",
        "ssh-keygen"
      ]
    },
    {
      "cell_type": "markdown",
      "id": "bcd83789",
      "metadata": {
        "id": "bcd83789"
      },
      "source": [
        "### Question 4\n",
        "a) Add a HW2 directory to your git repo through the terminal with a HW.md file that says \"This is for homework 2.\"\n",
        "\n",
        "mkdir HW2\n",
        "\n",
        "echo \"This is for homework 2.\" > HW2/HW.md"
      ]
    },
    {
      "cell_type": "markdown",
      "id": "0a600019",
      "metadata": {
        "id": "0a600019"
      },
      "source": [
        "b) *Add* HW2.md to the staging area. Then, use the command to see which files have been modified, staged for commit, or are untracked. What does it show?\n",
        "They should copy paste the terminal response after git status, and show that key used the commands below.\n",
        "\n",
        "git add HW/HW2.md\n",
        "\n",
        "git status\n",
        "Your branch is up to date with 'origin/main'.\n",
        "\n",
        "Changes to be committed:\n",
        "  (use \"git restore --staged <file>...\" to unstage)\n",
        "        new file:   HW2/HW.md\n",
        "\n",
        "Untracked files:\n",
        "  (use \"git add <file>...\" to include in what will be committed)\n",
        "        BIOS512/"
      ]
    },
    {
      "cell_type": "markdown",
      "id": "51a1c8a9",
      "metadata": {
        "id": "51a1c8a9"
      },
      "source": [
        "c) Save file changes to the main branch.\n",
        "\n",
        "git commit -m \"Saving HW2 document to main branch\"\n",
        "\n",
        "git push origin main"
      ]
    },
    {
      "cell_type": "markdown",
      "id": "7ab5dd9a",
      "metadata": {
        "id": "7ab5dd9a"
      },
      "source": [
        "d) Now, edit the HW2.md file to give it a title.\n",
        "\n",
        "Opened md file and wrote # Homework 2"
      ]
    },
    {
      "cell_type": "markdown",
      "id": "dd391254",
      "metadata": {
        "id": "dd391254"
      },
      "source": [
        "e) Use the command that compares current, unsaved changes to the main branch. What does it say?\\\n",
        "\\\n",
        "git status\n",
        "\n",
        "On branch main\n",
        "Your branch is up to date with 'origin/main'.\n",
        "\n",
        "Changes not staged for commit:\n",
        "  (use \"git add <file>...\" to update what will be committed)\n",
        "  (use \"git restore <file>...\" to discard changes in working directory)\n",
        "        modified:   HW2/HW.md\n",
        "\n",
        "Untracked files:\n",
        "  (use \"git add <file>...\" to include in what will be committed)\n",
        "        BIOS512/\n",
        "\n",
        "no changes added to commit (use \"git add\" and/or \"git commit -a\")\n",
        "\n",
        "f) Use the command that checks the status of the working directory and the staging area *again*. What does it say?\\\n",
        "\\\n",
        "\n",
        "git status\n",
        "On branch main\n",
        "Your branch is up to date with 'origin/main'.\n",
        "\n",
        "Changes not staged for commit:\n",
        "  (use \"git add <file>...\" to update what will be committed)\n",
        "  (use \"git restore <file>...\" to discard changes in working directory)\n",
        "        modified:   HW2/HW.md\n",
        "\n",
        "Untracked files:\n",
        "  (use \"git add <file>...\" to include in what will be committed)\n",
        "        BIOS512/\n",
        "\n",
        "no changes added to commit (use \"git add\" and/or \"git commit -a\")\n",
        "\n",
        "g) Once again, add HW2.md to the staging area and save the file changes to the main branch. Then, get use the command that gives you project history and paste the output in your homework.\n",
        "\n",
        "git add HW2/HW.md\n",
        "git commit -m \"Title added to HW2 HW file\"\n",
        "git push origin main\n",
        "\n",
        "git log\n",
        "\n",
        "commit d58f4cc811f3c16a2eed4900cfc6960ce7eabda7 (HEAD -> main, origin/main, origin/HEAD)\n",
        "Author: Jonah Prober <jpro@unc.edu>\n",
        "Date:   Thu Sep 11 11:16:22 2025 -0400\n",
        "\n",
        "    Title added to HW2 HW file\n",
        "\n",
        "commit 855a5fc37f59fb2d4e563fb2517400052d43bb79\n",
        "Author: Jonah Prober <jpro@unc.edu>\n",
        "Date:   Thu Sep 11 11:11:51 2025 -0400\n",
        "\n",
        "    Saving HW2 document to main branch\n",
        "\n",
        "commit c03c0d879ff3968bc4064ebff82a10ea03f29160\n",
        "Author: Jonah Prober <jpro@unc.edu>\n",
        "Date:   Thu Sep 11 05:58:39 2025 +0000\n",
        "\n",
        "    Setting up repository\n",
        "\n",
        "commit fd4a03cdb5a61d64765e97522d781667c9e40547\n",
        "Author: Jonah Prober <156374676+jpro1219@users.noreply.github.com>\n",
        "Date:   Thu Sep 11 01:53:02 2025 -0400\n",
        "\n",
        "    Create runtime.txt\n",
        "\n",
        "commit 0b4cb894e0a2780e06b1650f2834ac3af9291d6f\n",
        "Author: Jonah Prober <156374676+jpro1219@users.noreply.github.com>\n",
        "Date:   Thu Sep 11 01:52:31 2025 -0400\n",
        "\n",
        "    Create hello.R\n",
        "\n",
        "commit 8bcc5ede9a9173a81a3aa55500c387678966098f\n",
        "Author: Jonah Prober <156374676+jpro1219@users.noreply.github.com>\n",
        "Date:   Thu Sep 11 01:51:44 2025 -0400\n",
        "\n",
        "    Update README.md\n",
        "\n",
        "commit 56f21d2d37077b50d3bd5b4e328ca4b4f84a5002\n",
        "Author: Jonah Prober <156374676+jpro1219@users.noreply.github.com>\n",
        "Date:   Thu Sep 11 01:51:28 2025 -0400\n",
        "\n",
        "    Initial commit"
      ]
    },
    {
      "cell_type": "markdown",
      "id": "a19411e1",
      "metadata": {
        "id": "a19411e1"
      },
      "source": [
        "h) Do some searching... What `git` command will provide you documentation on other commands? Use that command to find documentation on `git log` and `git show`. What does `--since` mean in regards to `git log`? Copy and paste what is written in the documentation.\n",
        "\n",
        "git help\n",
        "\n",
        "git help log\n",
        "git help show\n",
        "\n",
        "Using more options generally further limits the output (e.g. --since=<date1> limits to commits newer than <date1>, and using it with --grep=<pattern> further limits to commits whose log message has a line that matches <pattern>), unless otherwise noted."
      ]
    },
    {
      "cell_type": "markdown",
      "id": "ba302ef2",
      "metadata": {
        "id": "ba302ef2"
      },
      "source": [
        "## Tidyverse\n",
        "\n",
        "Note: Please make sure Binder is set up correctly to run this section. You can follow the instructions here: https://github.com/rjenki/BIOS512."
      ]
    },
    {
      "cell_type": "markdown",
      "id": "78255223",
      "metadata": {
        "id": "78255223"
      },
      "source": [
        "**Please show your code for this section!** Before completing this section, please run the following."
      ]
    },
    {
      "cell_type": "code",
      "execution_count": 1,
      "id": "1f1bd613",
      "metadata": {
        "vscode": {
          "languageId": "r"
        },
        "colab": {
          "base_uri": "https://localhost:8080/"
        },
        "id": "1f1bd613",
        "outputId": "f7130f15-f33b-49ff-db8d-3a84aba88360"
      },
      "outputs": [
        {
          "output_type": "stream",
          "name": "stderr",
          "text": [
            "── \u001b[1mAttaching core tidyverse packages\u001b[22m ──────────────────────── tidyverse 2.0.0 ──\n",
            "\u001b[32m✔\u001b[39m \u001b[34mdplyr    \u001b[39m 1.1.4     \u001b[32m✔\u001b[39m \u001b[34mreadr    \u001b[39m 2.1.5\n",
            "\u001b[32m✔\u001b[39m \u001b[34mforcats  \u001b[39m 1.0.0     \u001b[32m✔\u001b[39m \u001b[34mstringr  \u001b[39m 1.5.2\n",
            "\u001b[32m✔\u001b[39m \u001b[34mggplot2  \u001b[39m 3.5.2     \u001b[32m✔\u001b[39m \u001b[34mtibble   \u001b[39m 3.3.0\n",
            "\u001b[32m✔\u001b[39m \u001b[34mlubridate\u001b[39m 1.9.4     \u001b[32m✔\u001b[39m \u001b[34mtidyr    \u001b[39m 1.3.1\n",
            "\u001b[32m✔\u001b[39m \u001b[34mpurrr    \u001b[39m 1.1.0     \n",
            "── \u001b[1mConflicts\u001b[22m ────────────────────────────────────────── tidyverse_conflicts() ──\n",
            "\u001b[31m✖\u001b[39m \u001b[34mdplyr\u001b[39m::\u001b[32mfilter()\u001b[39m masks \u001b[34mstats\u001b[39m::filter()\n",
            "\u001b[31m✖\u001b[39m \u001b[34mdplyr\u001b[39m::\u001b[32mlag()\u001b[39m    masks \u001b[34mstats\u001b[39m::lag()\n",
            "\u001b[36mℹ\u001b[39m Use the conflicted package (\u001b[3m\u001b[34m<http://conflicted.r-lib.org/>\u001b[39m\u001b[23m) to force all conflicts to become errors\n"
          ]
        }
      ],
      "source": [
        "library(tidyverse)\n",
        "if (!dir.exists(\"intermediate\")) dir.create(\"intermediate\", recursive = TRUE)\n",
        "if (!exists(\"mdpre\")) mdpre <- function(x) { print(x) }\n",
        "if (!exists(\"ggmd\"))  ggmd  <- function(p) { print(p) }"
      ]
    },
    {
      "cell_type": "markdown",
      "id": "7a5eb54a",
      "metadata": {
        "id": "7a5eb54a"
      },
      "source": [
        "### Question 5\n",
        "\n",
        "Download the patient_names.csv and patient_properties.csv files from Canvas and read them into R. Manually set the date columns to be date variables. Print the first 10 observations of each."
      ]
    },
    {
      "cell_type": "code",
      "source": [
        "# Load csv files into R\n",
        "patient_names <- read.csv(\"/content/Data/patient_names.csv\")\n",
        "patient_properties <- read.csv(\"/content/Data/patient_properties.csv\")"
      ],
      "metadata": {
        "id": "obd0G1Z7cNBS"
      },
      "id": "obd0G1Z7cNBS",
      "execution_count": 15,
      "outputs": []
    },
    {
      "cell_type": "code",
      "source": [
        "# Set date columns\n",
        "patient_names$BIRTHDATE <- as.Date(patient_names$BIRTHDATE, format = \"%m/%d/%y\")\n",
        "patient_names$BIRTHDATE <- if_else(patient_names$BIRTHDATE > Sys.Date(), patient_names$BIRTHDATE - years(100), patient_names$BIRTHDATE)\n",
        "\n",
        "patient_names$DEATHDATE <- as.Date(patient_names$DEATHDATE, format = \"%m/%d/%y\")"
      ],
      "metadata": {
        "id": "oiel7VhHeP2y"
      },
      "id": "oiel7VhHeP2y",
      "execution_count": 16,
      "outputs": []
    },
    {
      "cell_type": "code",
      "source": [
        "# Print the first 10 observations\n",
        "print(\"First 10 observations of names:\")\n",
        "head(patient_names, 10))\n",
        "\n",
        "print(\"First 10 observations of properties:\")\n",
        "head(patient_properties, 10))"
      ],
      "metadata": {
        "colab": {
          "base_uri": "https://localhost:8080/",
          "height": 880
        },
        "id": "AY1Si-RwXN5e",
        "outputId": "f30f9f60-a495-49c2-8521-ecd2e97b0b98"
      },
      "execution_count": 17,
      "outputs": [
        {
          "output_type": "stream",
          "name": "stdout",
          "text": [
            "[1] \"First 10 observations of names:\"\n"
          ]
        },
        {
          "output_type": "display_data",
          "data": {
            "text/html": [
              "<table class=\"dataframe\">\n",
              "<caption>A data.frame: 10 × 7</caption>\n",
              "<thead>\n",
              "\t<tr><th></th><th scope=col>ID</th><th scope=col>BIRTHDATE</th><th scope=col>DEATHDATE</th><th scope=col>FIRST</th><th scope=col>LAST</th><th scope=col>CITY</th><th scope=col>STATE</th></tr>\n",
              "\t<tr><th></th><th scope=col>&lt;chr&gt;</th><th scope=col>&lt;date&gt;</th><th scope=col>&lt;date&gt;</th><th scope=col>&lt;chr&gt;</th><th scope=col>&lt;chr&gt;</th><th scope=col>&lt;chr&gt;</th><th scope=col>&lt;chr&gt;</th></tr>\n",
              "</thead>\n",
              "<tbody>\n",
              "\t<tr><th scope=row>1</th><td>5605b66b-e92d-c16c-1b83-b8bf7040d51f</td><td>1977-03-19</td><td>NA</td><td>Nikita578 </td><td>Erdman779     </td><td>Quincy   </td><td>Massachusetts</td></tr>\n",
              "\t<tr><th scope=row>2</th><td>6e5ae27c-8038-7988-e2c0-25a103f01bfa</td><td>1940-02-19</td><td>NA</td><td>Zane918   </td><td>Hodkiewicz467 </td><td>Boston   </td><td>Massachusetts</td></tr>\n",
              "\t<tr><th scope=row>3</th><td>8123d076-0886-9007-e956-d5864aa121a7</td><td>1958-06-04</td><td>NA</td><td>Quinn173  </td><td>Marquardt819  </td><td>Quincy   </td><td>Massachusetts</td></tr>\n",
              "\t<tr><th scope=row>4</th><td>770518e4-6133-648e-60c9-071eb2f0e2ce</td><td>1928-12-25</td><td>2017-09-29</td><td>Abel832   </td><td>Smitham825    </td><td>Boston   </td><td>Massachusetts</td></tr>\n",
              "\t<tr><th scope=row>5</th><td>f96addf5-81b9-0aab-7855-d208d3d352c5</td><td>1928-12-25</td><td>2014-02-23</td><td>Edwin773  </td><td>Labadie908    </td><td>Boston   </td><td>Massachusetts</td></tr>\n",
              "\t<tr><th scope=row>6</th><td>8e9650d1-788a-78f9-4a28-d08f7f95354a</td><td>1928-12-25</td><td>NA</td><td>Frankie174</td><td>Oberbrunner298</td><td>Boston   </td><td>Massachusetts</td></tr>\n",
              "\t<tr><th scope=row>7</th><td>183df435-4190-060e-8f8e-bf63c572b266</td><td>1957-11-08</td><td>NA</td><td>Eilene124 </td><td>Walsh511      </td><td>Cambridge</td><td>Massachusetts</td></tr>\n",
              "\t<tr><th scope=row>8</th><td>720560d4-51da-c38c-ee90-c15935278df1</td><td>1972-06-27</td><td>NA</td><td>Lowell343 </td><td>Price929      </td><td>Quincy   </td><td>Massachusetts</td></tr>\n",
              "\t<tr><th scope=row>9</th><td>217851b0-5f47-d376-18b9-0fe4ba77207e</td><td>1954-03-06</td><td>NA</td><td>Adrian111 </td><td>Gleason633    </td><td>Boston   </td><td>Massachusetts</td></tr>\n",
              "\t<tr><th scope=row>10</th><td>ff331e5c-ab16-e218-f39a-63e11de1ed75</td><td>1927-07-10</td><td>NA</td><td>Eugene421 </td><td>Abernathy524  </td><td>Boston   </td><td>Massachusetts</td></tr>\n",
              "</tbody>\n",
              "</table>\n"
            ],
            "text/markdown": "\nA data.frame: 10 × 7\n\n| <!--/--> | ID &lt;chr&gt; | BIRTHDATE &lt;date&gt; | DEATHDATE &lt;date&gt; | FIRST &lt;chr&gt; | LAST &lt;chr&gt; | CITY &lt;chr&gt; | STATE &lt;chr&gt; |\n|---|---|---|---|---|---|---|---|\n| 1 | 5605b66b-e92d-c16c-1b83-b8bf7040d51f | 1977-03-19 | NA | Nikita578  | Erdman779      | Quincy    | Massachusetts |\n| 2 | 6e5ae27c-8038-7988-e2c0-25a103f01bfa | 1940-02-19 | NA | Zane918    | Hodkiewicz467  | Boston    | Massachusetts |\n| 3 | 8123d076-0886-9007-e956-d5864aa121a7 | 1958-06-04 | NA | Quinn173   | Marquardt819   | Quincy    | Massachusetts |\n| 4 | 770518e4-6133-648e-60c9-071eb2f0e2ce | 1928-12-25 | 2017-09-29 | Abel832    | Smitham825     | Boston    | Massachusetts |\n| 5 | f96addf5-81b9-0aab-7855-d208d3d352c5 | 1928-12-25 | 2014-02-23 | Edwin773   | Labadie908     | Boston    | Massachusetts |\n| 6 | 8e9650d1-788a-78f9-4a28-d08f7f95354a | 1928-12-25 | NA | Frankie174 | Oberbrunner298 | Boston    | Massachusetts |\n| 7 | 183df435-4190-060e-8f8e-bf63c572b266 | 1957-11-08 | NA | Eilene124  | Walsh511       | Cambridge | Massachusetts |\n| 8 | 720560d4-51da-c38c-ee90-c15935278df1 | 1972-06-27 | NA | Lowell343  | Price929       | Quincy    | Massachusetts |\n| 9 | 217851b0-5f47-d376-18b9-0fe4ba77207e | 1954-03-06 | NA | Adrian111  | Gleason633     | Boston    | Massachusetts |\n| 10 | ff331e5c-ab16-e218-f39a-63e11de1ed75 | 1927-07-10 | NA | Eugene421  | Abernathy524   | Boston    | Massachusetts |\n\n",
            "text/latex": "A data.frame: 10 × 7\n\\begin{tabular}{r|lllllll}\n  & ID & BIRTHDATE & DEATHDATE & FIRST & LAST & CITY & STATE\\\\\n  & <chr> & <date> & <date> & <chr> & <chr> & <chr> & <chr>\\\\\n\\hline\n\t1 & 5605b66b-e92d-c16c-1b83-b8bf7040d51f & 1977-03-19 & NA & Nikita578  & Erdman779      & Quincy    & Massachusetts\\\\\n\t2 & 6e5ae27c-8038-7988-e2c0-25a103f01bfa & 1940-02-19 & NA & Zane918    & Hodkiewicz467  & Boston    & Massachusetts\\\\\n\t3 & 8123d076-0886-9007-e956-d5864aa121a7 & 1958-06-04 & NA & Quinn173   & Marquardt819   & Quincy    & Massachusetts\\\\\n\t4 & 770518e4-6133-648e-60c9-071eb2f0e2ce & 1928-12-25 & 2017-09-29 & Abel832    & Smitham825     & Boston    & Massachusetts\\\\\n\t5 & f96addf5-81b9-0aab-7855-d208d3d352c5 & 1928-12-25 & 2014-02-23 & Edwin773   & Labadie908     & Boston    & Massachusetts\\\\\n\t6 & 8e9650d1-788a-78f9-4a28-d08f7f95354a & 1928-12-25 & NA & Frankie174 & Oberbrunner298 & Boston    & Massachusetts\\\\\n\t7 & 183df435-4190-060e-8f8e-bf63c572b266 & 1957-11-08 & NA & Eilene124  & Walsh511       & Cambridge & Massachusetts\\\\\n\t8 & 720560d4-51da-c38c-ee90-c15935278df1 & 1972-06-27 & NA & Lowell343  & Price929       & Quincy    & Massachusetts\\\\\n\t9 & 217851b0-5f47-d376-18b9-0fe4ba77207e & 1954-03-06 & NA & Adrian111  & Gleason633     & Boston    & Massachusetts\\\\\n\t10 & ff331e5c-ab16-e218-f39a-63e11de1ed75 & 1927-07-10 & NA & Eugene421  & Abernathy524   & Boston    & Massachusetts\\\\\n\\end{tabular}\n",
            "text/plain": [
              "   ID                                   BIRTHDATE  DEATHDATE  FIRST     \n",
              "1  5605b66b-e92d-c16c-1b83-b8bf7040d51f 1977-03-19 <NA>       Nikita578 \n",
              "2  6e5ae27c-8038-7988-e2c0-25a103f01bfa 1940-02-19 <NA>       Zane918   \n",
              "3  8123d076-0886-9007-e956-d5864aa121a7 1958-06-04 <NA>       Quinn173  \n",
              "4  770518e4-6133-648e-60c9-071eb2f0e2ce 1928-12-25 2017-09-29 Abel832   \n",
              "5  f96addf5-81b9-0aab-7855-d208d3d352c5 1928-12-25 2014-02-23 Edwin773  \n",
              "6  8e9650d1-788a-78f9-4a28-d08f7f95354a 1928-12-25 <NA>       Frankie174\n",
              "7  183df435-4190-060e-8f8e-bf63c572b266 1957-11-08 <NA>       Eilene124 \n",
              "8  720560d4-51da-c38c-ee90-c15935278df1 1972-06-27 <NA>       Lowell343 \n",
              "9  217851b0-5f47-d376-18b9-0fe4ba77207e 1954-03-06 <NA>       Adrian111 \n",
              "10 ff331e5c-ab16-e218-f39a-63e11de1ed75 1927-07-10 <NA>       Eugene421 \n",
              "   LAST           CITY      STATE        \n",
              "1  Erdman779      Quincy    Massachusetts\n",
              "2  Hodkiewicz467  Boston    Massachusetts\n",
              "3  Marquardt819   Quincy    Massachusetts\n",
              "4  Smitham825     Boston    Massachusetts\n",
              "5  Labadie908     Boston    Massachusetts\n",
              "6  Oberbrunner298 Boston    Massachusetts\n",
              "7  Walsh511       Cambridge Massachusetts\n",
              "8  Price929       Quincy    Massachusetts\n",
              "9  Gleason633     Boston    Massachusetts\n",
              "10 Abernathy524   Boston    Massachusetts"
            ]
          },
          "metadata": {}
        },
        {
          "output_type": "stream",
          "name": "stdout",
          "text": [
            "[1] \"First 10 observations of properties:\"\n"
          ]
        },
        {
          "output_type": "display_data",
          "data": {
            "text/html": [
              "<table class=\"dataframe\">\n",
              "<caption>A data.frame: 10 × 3</caption>\n",
              "<thead>\n",
              "\t<tr><th></th><th scope=col>ID</th><th scope=col>property</th><th scope=col>value</th></tr>\n",
              "\t<tr><th></th><th scope=col>&lt;chr&gt;</th><th scope=col>&lt;chr&gt;</th><th scope=col>&lt;chr&gt;</th></tr>\n",
              "</thead>\n",
              "<tbody>\n",
              "\t<tr><th scope=row>1</th><td>5605b66b-e92d-c16c-1b83-b8bf7040d51f</td><td>MARITAL  </td><td>M          </td></tr>\n",
              "\t<tr><th scope=row>2</th><td>5605b66b-e92d-c16c-1b83-b8bf7040d51f</td><td>RACE     </td><td>white      </td></tr>\n",
              "\t<tr><th scope=row>3</th><td>5605b66b-e92d-c16c-1b83-b8bf7040d51f</td><td>ETHNICITY</td><td>nonhispanic</td></tr>\n",
              "\t<tr><th scope=row>4</th><td>5605b66b-e92d-c16c-1b83-b8bf7040d51f</td><td>GENDER   </td><td>F          </td></tr>\n",
              "\t<tr><th scope=row>5</th><td>6e5ae27c-8038-7988-e2c0-25a103f01bfa</td><td>MARITAL  </td><td>M          </td></tr>\n",
              "\t<tr><th scope=row>6</th><td>6e5ae27c-8038-7988-e2c0-25a103f01bfa</td><td>RACE     </td><td>white      </td></tr>\n",
              "\t<tr><th scope=row>7</th><td>6e5ae27c-8038-7988-e2c0-25a103f01bfa</td><td>ETHNICITY</td><td>nonhispanic</td></tr>\n",
              "\t<tr><th scope=row>8</th><td>6e5ae27c-8038-7988-e2c0-25a103f01bfa</td><td>GENDER   </td><td>M          </td></tr>\n",
              "\t<tr><th scope=row>9</th><td>8123d076-0886-9007-e956-d5864aa121a7</td><td>MARITAL  </td><td>M          </td></tr>\n",
              "\t<tr><th scope=row>10</th><td>8123d076-0886-9007-e956-d5864aa121a7</td><td>RACE     </td><td>white      </td></tr>\n",
              "</tbody>\n",
              "</table>\n"
            ],
            "text/markdown": "\nA data.frame: 10 × 3\n\n| <!--/--> | ID &lt;chr&gt; | property &lt;chr&gt; | value &lt;chr&gt; |\n|---|---|---|---|\n| 1 | 5605b66b-e92d-c16c-1b83-b8bf7040d51f | MARITAL   | M           |\n| 2 | 5605b66b-e92d-c16c-1b83-b8bf7040d51f | RACE      | white       |\n| 3 | 5605b66b-e92d-c16c-1b83-b8bf7040d51f | ETHNICITY | nonhispanic |\n| 4 | 5605b66b-e92d-c16c-1b83-b8bf7040d51f | GENDER    | F           |\n| 5 | 6e5ae27c-8038-7988-e2c0-25a103f01bfa | MARITAL   | M           |\n| 6 | 6e5ae27c-8038-7988-e2c0-25a103f01bfa | RACE      | white       |\n| 7 | 6e5ae27c-8038-7988-e2c0-25a103f01bfa | ETHNICITY | nonhispanic |\n| 8 | 6e5ae27c-8038-7988-e2c0-25a103f01bfa | GENDER    | M           |\n| 9 | 8123d076-0886-9007-e956-d5864aa121a7 | MARITAL   | M           |\n| 10 | 8123d076-0886-9007-e956-d5864aa121a7 | RACE      | white       |\n\n",
            "text/latex": "A data.frame: 10 × 3\n\\begin{tabular}{r|lll}\n  & ID & property & value\\\\\n  & <chr> & <chr> & <chr>\\\\\n\\hline\n\t1 & 5605b66b-e92d-c16c-1b83-b8bf7040d51f & MARITAL   & M          \\\\\n\t2 & 5605b66b-e92d-c16c-1b83-b8bf7040d51f & RACE      & white      \\\\\n\t3 & 5605b66b-e92d-c16c-1b83-b8bf7040d51f & ETHNICITY & nonhispanic\\\\\n\t4 & 5605b66b-e92d-c16c-1b83-b8bf7040d51f & GENDER    & F          \\\\\n\t5 & 6e5ae27c-8038-7988-e2c0-25a103f01bfa & MARITAL   & M          \\\\\n\t6 & 6e5ae27c-8038-7988-e2c0-25a103f01bfa & RACE      & white      \\\\\n\t7 & 6e5ae27c-8038-7988-e2c0-25a103f01bfa & ETHNICITY & nonhispanic\\\\\n\t8 & 6e5ae27c-8038-7988-e2c0-25a103f01bfa & GENDER    & M          \\\\\n\t9 & 8123d076-0886-9007-e956-d5864aa121a7 & MARITAL   & M          \\\\\n\t10 & 8123d076-0886-9007-e956-d5864aa121a7 & RACE      & white      \\\\\n\\end{tabular}\n",
            "text/plain": [
              "   ID                                   property  value      \n",
              "1  5605b66b-e92d-c16c-1b83-b8bf7040d51f MARITAL   M          \n",
              "2  5605b66b-e92d-c16c-1b83-b8bf7040d51f RACE      white      \n",
              "3  5605b66b-e92d-c16c-1b83-b8bf7040d51f ETHNICITY nonhispanic\n",
              "4  5605b66b-e92d-c16c-1b83-b8bf7040d51f GENDER    F          \n",
              "5  6e5ae27c-8038-7988-e2c0-25a103f01bfa MARITAL   M          \n",
              "6  6e5ae27c-8038-7988-e2c0-25a103f01bfa RACE      white      \n",
              "7  6e5ae27c-8038-7988-e2c0-25a103f01bfa ETHNICITY nonhispanic\n",
              "8  6e5ae27c-8038-7988-e2c0-25a103f01bfa GENDER    M          \n",
              "9  8123d076-0886-9007-e956-d5864aa121a7 MARITAL   M          \n",
              "10 8123d076-0886-9007-e956-d5864aa121a7 RACE      white      "
            ]
          },
          "metadata": {}
        }
      ],
      "id": "AY1Si-RwXN5e"
    },
    {
      "cell_type": "markdown",
      "id": "cc6f646b",
      "metadata": {
        "id": "cc6f646b"
      },
      "source": [
        "### Question 6\n",
        "In the data frame pulled from patient_properties, you'll notice that the data is long, not wide. Do a pivot to make the properties their own columns. Print the first 10 observations after you do so."
      ]
    },
    {
      "cell_type": "code",
      "source": [
        "patient_properties_wide <- patient_properties |>\n",
        "  pivot_wider(\n",
        "  id_cols = ID,\n",
        "  names_from = property,\n",
        "  values_from = value,\n",
        "\n",
        "  )"
      ],
      "metadata": {
        "id": "clLPA6jqgDHx"
      },
      "id": "clLPA6jqgDHx",
      "execution_count": 21,
      "outputs": []
    },
    {
      "cell_type": "code",
      "source": [
        "  print(\"First 10 observations of wider properties:\")\n",
        "head(patient_properties_wide, 10)"
      ],
      "metadata": {
        "colab": {
          "base_uri": "https://localhost:8080/",
          "height": 430
        },
        "id": "OJ6RFRs8hF8T",
        "outputId": "6b7cbd8c-bcd0-418b-e4a6-9c98b6b2874e"
      },
      "id": "OJ6RFRs8hF8T",
      "execution_count": 22,
      "outputs": [
        {
          "output_type": "stream",
          "name": "stdout",
          "text": [
            "[1] \"First 10 observations of wider properties:\"\n"
          ]
        },
        {
          "output_type": "display_data",
          "data": {
            "text/html": [
              "<table class=\"dataframe\">\n",
              "<caption>A tibble: 10 × 5</caption>\n",
              "<thead>\n",
              "\t<tr><th scope=col>ID</th><th scope=col>MARITAL</th><th scope=col>RACE</th><th scope=col>ETHNICITY</th><th scope=col>GENDER</th></tr>\n",
              "\t<tr><th scope=col>&lt;chr&gt;</th><th scope=col>&lt;chr&gt;</th><th scope=col>&lt;chr&gt;</th><th scope=col>&lt;chr&gt;</th><th scope=col>&lt;chr&gt;</th></tr>\n",
              "</thead>\n",
              "<tbody>\n",
              "\t<tr><td>5605b66b-e92d-c16c-1b83-b8bf7040d51f</td><td>M</td><td>white </td><td>nonhispanic</td><td>F</td></tr>\n",
              "\t<tr><td>6e5ae27c-8038-7988-e2c0-25a103f01bfa</td><td>M</td><td>white </td><td>nonhispanic</td><td>M</td></tr>\n",
              "\t<tr><td>8123d076-0886-9007-e956-d5864aa121a7</td><td>M</td><td>white </td><td>nonhispanic</td><td>M</td></tr>\n",
              "\t<tr><td>770518e4-6133-648e-60c9-071eb2f0e2ce</td><td>M</td><td>white </td><td>hispanic   </td><td>M</td></tr>\n",
              "\t<tr><td>f96addf5-81b9-0aab-7855-d208d3d352c5</td><td>M</td><td>white </td><td>hispanic   </td><td>M</td></tr>\n",
              "\t<tr><td>8e9650d1-788a-78f9-4a28-d08f7f95354a</td><td>M</td><td>white </td><td>hispanic   </td><td>M</td></tr>\n",
              "\t<tr><td>183df435-4190-060e-8f8e-bf63c572b266</td><td>M</td><td>asian </td><td>nonhispanic</td><td>F</td></tr>\n",
              "\t<tr><td>720560d4-51da-c38c-ee90-c15935278df1</td><td>M</td><td>white </td><td>nonhispanic</td><td>M</td></tr>\n",
              "\t<tr><td>217851b0-5f47-d376-18b9-0fe4ba77207e</td><td>S</td><td>black </td><td>hispanic   </td><td>M</td></tr>\n",
              "\t<tr><td>ff331e5c-ab16-e218-f39a-63e11de1ed75</td><td>M</td><td>native</td><td>hispanic   </td><td>M</td></tr>\n",
              "</tbody>\n",
              "</table>\n"
            ],
            "text/markdown": "\nA tibble: 10 × 5\n\n| ID &lt;chr&gt; | MARITAL &lt;chr&gt; | RACE &lt;chr&gt; | ETHNICITY &lt;chr&gt; | GENDER &lt;chr&gt; |\n|---|---|---|---|---|\n| 5605b66b-e92d-c16c-1b83-b8bf7040d51f | M | white  | nonhispanic | F |\n| 6e5ae27c-8038-7988-e2c0-25a103f01bfa | M | white  | nonhispanic | M |\n| 8123d076-0886-9007-e956-d5864aa121a7 | M | white  | nonhispanic | M |\n| 770518e4-6133-648e-60c9-071eb2f0e2ce | M | white  | hispanic    | M |\n| f96addf5-81b9-0aab-7855-d208d3d352c5 | M | white  | hispanic    | M |\n| 8e9650d1-788a-78f9-4a28-d08f7f95354a | M | white  | hispanic    | M |\n| 183df435-4190-060e-8f8e-bf63c572b266 | M | asian  | nonhispanic | F |\n| 720560d4-51da-c38c-ee90-c15935278df1 | M | white  | nonhispanic | M |\n| 217851b0-5f47-d376-18b9-0fe4ba77207e | S | black  | hispanic    | M |\n| ff331e5c-ab16-e218-f39a-63e11de1ed75 | M | native | hispanic    | M |\n\n",
            "text/latex": "A tibble: 10 × 5\n\\begin{tabular}{lllll}\n ID & MARITAL & RACE & ETHNICITY & GENDER\\\\\n <chr> & <chr> & <chr> & <chr> & <chr>\\\\\n\\hline\n\t 5605b66b-e92d-c16c-1b83-b8bf7040d51f & M & white  & nonhispanic & F\\\\\n\t 6e5ae27c-8038-7988-e2c0-25a103f01bfa & M & white  & nonhispanic & M\\\\\n\t 8123d076-0886-9007-e956-d5864aa121a7 & M & white  & nonhispanic & M\\\\\n\t 770518e4-6133-648e-60c9-071eb2f0e2ce & M & white  & hispanic    & M\\\\\n\t f96addf5-81b9-0aab-7855-d208d3d352c5 & M & white  & hispanic    & M\\\\\n\t 8e9650d1-788a-78f9-4a28-d08f7f95354a & M & white  & hispanic    & M\\\\\n\t 183df435-4190-060e-8f8e-bf63c572b266 & M & asian  & nonhispanic & F\\\\\n\t 720560d4-51da-c38c-ee90-c15935278df1 & M & white  & nonhispanic & M\\\\\n\t 217851b0-5f47-d376-18b9-0fe4ba77207e & S & black  & hispanic    & M\\\\\n\t ff331e5c-ab16-e218-f39a-63e11de1ed75 & M & native & hispanic    & M\\\\\n\\end{tabular}\n",
            "text/plain": [
              "   ID                                   MARITAL RACE   ETHNICITY   GENDER\n",
              "1  5605b66b-e92d-c16c-1b83-b8bf7040d51f M       white  nonhispanic F     \n",
              "2  6e5ae27c-8038-7988-e2c0-25a103f01bfa M       white  nonhispanic M     \n",
              "3  8123d076-0886-9007-e956-d5864aa121a7 M       white  nonhispanic M     \n",
              "4  770518e4-6133-648e-60c9-071eb2f0e2ce M       white  hispanic    M     \n",
              "5  f96addf5-81b9-0aab-7855-d208d3d352c5 M       white  hispanic    M     \n",
              "6  8e9650d1-788a-78f9-4a28-d08f7f95354a M       white  hispanic    M     \n",
              "7  183df435-4190-060e-8f8e-bf63c572b266 M       asian  nonhispanic F     \n",
              "8  720560d4-51da-c38c-ee90-c15935278df1 M       white  nonhispanic M     \n",
              "9  217851b0-5f47-d376-18b9-0fe4ba77207e S       black  hispanic    M     \n",
              "10 ff331e5c-ab16-e218-f39a-63e11de1ed75 M       native hispanic    M     "
            ]
          },
          "metadata": {}
        }
      ]
    },
    {
      "cell_type": "markdown",
      "id": "dffb85c3",
      "metadata": {
        "id": "dffb85c3"
      },
      "source": [
        "### Question 7\n",
        "Perform a left join of the names and properties_wide data frames by the ID column and print the first 10 rows."
      ]
    },
    {
      "cell_type": "code",
      "source": [
        "patients <- patient_properties_wide |>\n",
        "  left_join(patient_names, by=\"ID\")"
      ],
      "metadata": {
        "id": "zAl36IZqh63R"
      },
      "id": "zAl36IZqh63R",
      "execution_count": 23,
      "outputs": []
    },
    {
      "cell_type": "code",
      "source": [
        "  print(\"First 10 observations of patients:\")\n",
        "head(patients, 10)"
      ],
      "metadata": {
        "colab": {
          "base_uri": "https://localhost:8080/",
          "height": 467
        },
        "id": "ajng0Z-TiT1-",
        "outputId": "42d95701-db6e-4e38-ea9c-ba6e982004e2"
      },
      "id": "ajng0Z-TiT1-",
      "execution_count": 24,
      "outputs": [
        {
          "output_type": "stream",
          "name": "stdout",
          "text": [
            "[1] \"First 10 observations of patients:\"\n"
          ]
        },
        {
          "output_type": "display_data",
          "data": {
            "text/html": [
              "<table class=\"dataframe\">\n",
              "<caption>A tibble: 10 × 11</caption>\n",
              "<thead>\n",
              "\t<tr><th scope=col>ID</th><th scope=col>MARITAL</th><th scope=col>RACE</th><th scope=col>ETHNICITY</th><th scope=col>GENDER</th><th scope=col>BIRTHDATE</th><th scope=col>DEATHDATE</th><th scope=col>FIRST</th><th scope=col>LAST</th><th scope=col>CITY</th><th scope=col>STATE</th></tr>\n",
              "\t<tr><th scope=col>&lt;chr&gt;</th><th scope=col>&lt;chr&gt;</th><th scope=col>&lt;chr&gt;</th><th scope=col>&lt;chr&gt;</th><th scope=col>&lt;chr&gt;</th><th scope=col>&lt;date&gt;</th><th scope=col>&lt;date&gt;</th><th scope=col>&lt;chr&gt;</th><th scope=col>&lt;chr&gt;</th><th scope=col>&lt;chr&gt;</th><th scope=col>&lt;chr&gt;</th></tr>\n",
              "</thead>\n",
              "<tbody>\n",
              "\t<tr><td>5605b66b-e92d-c16c-1b83-b8bf7040d51f</td><td>M</td><td>white </td><td>nonhispanic</td><td>F</td><td>1977-03-19</td><td>NA</td><td>Nikita578 </td><td>Erdman779     </td><td>Quincy   </td><td>Massachusetts</td></tr>\n",
              "\t<tr><td>6e5ae27c-8038-7988-e2c0-25a103f01bfa</td><td>M</td><td>white </td><td>nonhispanic</td><td>M</td><td>1940-02-19</td><td>NA</td><td>Zane918   </td><td>Hodkiewicz467 </td><td>Boston   </td><td>Massachusetts</td></tr>\n",
              "\t<tr><td>8123d076-0886-9007-e956-d5864aa121a7</td><td>M</td><td>white </td><td>nonhispanic</td><td>M</td><td>1958-06-04</td><td>NA</td><td>Quinn173  </td><td>Marquardt819  </td><td>Quincy   </td><td>Massachusetts</td></tr>\n",
              "\t<tr><td>770518e4-6133-648e-60c9-071eb2f0e2ce</td><td>M</td><td>white </td><td>hispanic   </td><td>M</td><td>1928-12-25</td><td>2017-09-29</td><td>Abel832   </td><td>Smitham825    </td><td>Boston   </td><td>Massachusetts</td></tr>\n",
              "\t<tr><td>f96addf5-81b9-0aab-7855-d208d3d352c5</td><td>M</td><td>white </td><td>hispanic   </td><td>M</td><td>1928-12-25</td><td>2014-02-23</td><td>Edwin773  </td><td>Labadie908    </td><td>Boston   </td><td>Massachusetts</td></tr>\n",
              "\t<tr><td>8e9650d1-788a-78f9-4a28-d08f7f95354a</td><td>M</td><td>white </td><td>hispanic   </td><td>M</td><td>1928-12-25</td><td>NA</td><td>Frankie174</td><td>Oberbrunner298</td><td>Boston   </td><td>Massachusetts</td></tr>\n",
              "\t<tr><td>183df435-4190-060e-8f8e-bf63c572b266</td><td>M</td><td>asian </td><td>nonhispanic</td><td>F</td><td>1957-11-08</td><td>NA</td><td>Eilene124 </td><td>Walsh511      </td><td>Cambridge</td><td>Massachusetts</td></tr>\n",
              "\t<tr><td>720560d4-51da-c38c-ee90-c15935278df1</td><td>M</td><td>white </td><td>nonhispanic</td><td>M</td><td>1972-06-27</td><td>NA</td><td>Lowell343 </td><td>Price929      </td><td>Quincy   </td><td>Massachusetts</td></tr>\n",
              "\t<tr><td>217851b0-5f47-d376-18b9-0fe4ba77207e</td><td>S</td><td>black </td><td>hispanic   </td><td>M</td><td>1954-03-06</td><td>NA</td><td>Adrian111 </td><td>Gleason633    </td><td>Boston   </td><td>Massachusetts</td></tr>\n",
              "\t<tr><td>ff331e5c-ab16-e218-f39a-63e11de1ed75</td><td>M</td><td>native</td><td>hispanic   </td><td>M</td><td>1927-07-10</td><td>NA</td><td>Eugene421 </td><td>Abernathy524  </td><td>Boston   </td><td>Massachusetts</td></tr>\n",
              "</tbody>\n",
              "</table>\n"
            ],
            "text/markdown": "\nA tibble: 10 × 11\n\n| ID &lt;chr&gt; | MARITAL &lt;chr&gt; | RACE &lt;chr&gt; | ETHNICITY &lt;chr&gt; | GENDER &lt;chr&gt; | BIRTHDATE &lt;date&gt; | DEATHDATE &lt;date&gt; | FIRST &lt;chr&gt; | LAST &lt;chr&gt; | CITY &lt;chr&gt; | STATE &lt;chr&gt; |\n|---|---|---|---|---|---|---|---|---|---|---|\n| 5605b66b-e92d-c16c-1b83-b8bf7040d51f | M | white  | nonhispanic | F | 1977-03-19 | NA | Nikita578  | Erdman779      | Quincy    | Massachusetts |\n| 6e5ae27c-8038-7988-e2c0-25a103f01bfa | M | white  | nonhispanic | M | 1940-02-19 | NA | Zane918    | Hodkiewicz467  | Boston    | Massachusetts |\n| 8123d076-0886-9007-e956-d5864aa121a7 | M | white  | nonhispanic | M | 1958-06-04 | NA | Quinn173   | Marquardt819   | Quincy    | Massachusetts |\n| 770518e4-6133-648e-60c9-071eb2f0e2ce | M | white  | hispanic    | M | 1928-12-25 | 2017-09-29 | Abel832    | Smitham825     | Boston    | Massachusetts |\n| f96addf5-81b9-0aab-7855-d208d3d352c5 | M | white  | hispanic    | M | 1928-12-25 | 2014-02-23 | Edwin773   | Labadie908     | Boston    | Massachusetts |\n| 8e9650d1-788a-78f9-4a28-d08f7f95354a | M | white  | hispanic    | M | 1928-12-25 | NA | Frankie174 | Oberbrunner298 | Boston    | Massachusetts |\n| 183df435-4190-060e-8f8e-bf63c572b266 | M | asian  | nonhispanic | F | 1957-11-08 | NA | Eilene124  | Walsh511       | Cambridge | Massachusetts |\n| 720560d4-51da-c38c-ee90-c15935278df1 | M | white  | nonhispanic | M | 1972-06-27 | NA | Lowell343  | Price929       | Quincy    | Massachusetts |\n| 217851b0-5f47-d376-18b9-0fe4ba77207e | S | black  | hispanic    | M | 1954-03-06 | NA | Adrian111  | Gleason633     | Boston    | Massachusetts |\n| ff331e5c-ab16-e218-f39a-63e11de1ed75 | M | native | hispanic    | M | 1927-07-10 | NA | Eugene421  | Abernathy524   | Boston    | Massachusetts |\n\n",
            "text/latex": "A tibble: 10 × 11\n\\begin{tabular}{lllllllllll}\n ID & MARITAL & RACE & ETHNICITY & GENDER & BIRTHDATE & DEATHDATE & FIRST & LAST & CITY & STATE\\\\\n <chr> & <chr> & <chr> & <chr> & <chr> & <date> & <date> & <chr> & <chr> & <chr> & <chr>\\\\\n\\hline\n\t 5605b66b-e92d-c16c-1b83-b8bf7040d51f & M & white  & nonhispanic & F & 1977-03-19 & NA & Nikita578  & Erdman779      & Quincy    & Massachusetts\\\\\n\t 6e5ae27c-8038-7988-e2c0-25a103f01bfa & M & white  & nonhispanic & M & 1940-02-19 & NA & Zane918    & Hodkiewicz467  & Boston    & Massachusetts\\\\\n\t 8123d076-0886-9007-e956-d5864aa121a7 & M & white  & nonhispanic & M & 1958-06-04 & NA & Quinn173   & Marquardt819   & Quincy    & Massachusetts\\\\\n\t 770518e4-6133-648e-60c9-071eb2f0e2ce & M & white  & hispanic    & M & 1928-12-25 & 2017-09-29 & Abel832    & Smitham825     & Boston    & Massachusetts\\\\\n\t f96addf5-81b9-0aab-7855-d208d3d352c5 & M & white  & hispanic    & M & 1928-12-25 & 2014-02-23 & Edwin773   & Labadie908     & Boston    & Massachusetts\\\\\n\t 8e9650d1-788a-78f9-4a28-d08f7f95354a & M & white  & hispanic    & M & 1928-12-25 & NA & Frankie174 & Oberbrunner298 & Boston    & Massachusetts\\\\\n\t 183df435-4190-060e-8f8e-bf63c572b266 & M & asian  & nonhispanic & F & 1957-11-08 & NA & Eilene124  & Walsh511       & Cambridge & Massachusetts\\\\\n\t 720560d4-51da-c38c-ee90-c15935278df1 & M & white  & nonhispanic & M & 1972-06-27 & NA & Lowell343  & Price929       & Quincy    & Massachusetts\\\\\n\t 217851b0-5f47-d376-18b9-0fe4ba77207e & S & black  & hispanic    & M & 1954-03-06 & NA & Adrian111  & Gleason633     & Boston    & Massachusetts\\\\\n\t ff331e5c-ab16-e218-f39a-63e11de1ed75 & M & native & hispanic    & M & 1927-07-10 & NA & Eugene421  & Abernathy524   & Boston    & Massachusetts\\\\\n\\end{tabular}\n",
            "text/plain": [
              "   ID                                   MARITAL RACE   ETHNICITY   GENDER\n",
              "1  5605b66b-e92d-c16c-1b83-b8bf7040d51f M       white  nonhispanic F     \n",
              "2  6e5ae27c-8038-7988-e2c0-25a103f01bfa M       white  nonhispanic M     \n",
              "3  8123d076-0886-9007-e956-d5864aa121a7 M       white  nonhispanic M     \n",
              "4  770518e4-6133-648e-60c9-071eb2f0e2ce M       white  hispanic    M     \n",
              "5  f96addf5-81b9-0aab-7855-d208d3d352c5 M       white  hispanic    M     \n",
              "6  8e9650d1-788a-78f9-4a28-d08f7f95354a M       white  hispanic    M     \n",
              "7  183df435-4190-060e-8f8e-bf63c572b266 M       asian  nonhispanic F     \n",
              "8  720560d4-51da-c38c-ee90-c15935278df1 M       white  nonhispanic M     \n",
              "9  217851b0-5f47-d376-18b9-0fe4ba77207e S       black  hispanic    M     \n",
              "10 ff331e5c-ab16-e218-f39a-63e11de1ed75 M       native hispanic    M     \n",
              "   BIRTHDATE  DEATHDATE  FIRST      LAST           CITY      STATE        \n",
              "1  1977-03-19 <NA>       Nikita578  Erdman779      Quincy    Massachusetts\n",
              "2  1940-02-19 <NA>       Zane918    Hodkiewicz467  Boston    Massachusetts\n",
              "3  1958-06-04 <NA>       Quinn173   Marquardt819   Quincy    Massachusetts\n",
              "4  1928-12-25 2017-09-29 Abel832    Smitham825     Boston    Massachusetts\n",
              "5  1928-12-25 2014-02-23 Edwin773   Labadie908     Boston    Massachusetts\n",
              "6  1928-12-25 <NA>       Frankie174 Oberbrunner298 Boston    Massachusetts\n",
              "7  1957-11-08 <NA>       Eilene124  Walsh511       Cambridge Massachusetts\n",
              "8  1972-06-27 <NA>       Lowell343  Price929       Quincy    Massachusetts\n",
              "9  1954-03-06 <NA>       Adrian111  Gleason633     Boston    Massachusetts\n",
              "10 1927-07-10 <NA>       Eugene421  Abernathy524   Boston    Massachusetts"
            ]
          },
          "metadata": {}
        }
      ]
    },
    {
      "cell_type": "markdown",
      "id": "5f82272f",
      "metadata": {
        "id": "5f82272f"
      },
      "source": [
        "### Question 8\n",
        "Notice something interesting about the names in our data set. Fix the name formatting and print the first 10 observations.\n",
        "\n",
        "The names in the dataset end with a number of digits. It seems like all have either 2 or three digits at the end."
      ]
    },
    {
      "cell_type": "code",
      "source": [
        "# Remove trailing digits\n",
        "patients$FIRST <- str_replace(patients$FIRST, \"\\\\d+$\", \"\")\n",
        "patients$LAST <- str_replace(patients$LAST, \"\\\\d+$\", \"\")\n",
        "\n"
      ],
      "metadata": {
        "id": "wK9UNlwtn4aF"
      },
      "id": "wK9UNlwtn4aF",
      "execution_count": 31,
      "outputs": []
    },
    {
      "cell_type": "code",
      "source": [
        "# Print the first 10 observations\n",
        "print(\"First 10 observations with cleaned names:\")\n",
        "head(patients, 10)"
      ],
      "metadata": {
        "colab": {
          "base_uri": "https://localhost:8080/",
          "height": 467
        },
        "id": "dO4HGtznobAr",
        "outputId": "9bb36bb3-d2a2-44cb-c3a9-b9cd7715a59e"
      },
      "id": "dO4HGtznobAr",
      "execution_count": 32,
      "outputs": [
        {
          "output_type": "stream",
          "name": "stdout",
          "text": [
            "[1] \"First 10 observations with cleaned names:\"\n"
          ]
        },
        {
          "output_type": "display_data",
          "data": {
            "text/html": [
              "<table class=\"dataframe\">\n",
              "<caption>A tibble: 10 × 11</caption>\n",
              "<thead>\n",
              "\t<tr><th scope=col>ID</th><th scope=col>MARITAL</th><th scope=col>RACE</th><th scope=col>ETHNICITY</th><th scope=col>GENDER</th><th scope=col>BIRTHDATE</th><th scope=col>DEATHDATE</th><th scope=col>FIRST</th><th scope=col>LAST</th><th scope=col>CITY</th><th scope=col>STATE</th></tr>\n",
              "\t<tr><th scope=col>&lt;chr&gt;</th><th scope=col>&lt;chr&gt;</th><th scope=col>&lt;chr&gt;</th><th scope=col>&lt;chr&gt;</th><th scope=col>&lt;chr&gt;</th><th scope=col>&lt;date&gt;</th><th scope=col>&lt;date&gt;</th><th scope=col>&lt;chr&gt;</th><th scope=col>&lt;chr&gt;</th><th scope=col>&lt;chr&gt;</th><th scope=col>&lt;chr&gt;</th></tr>\n",
              "</thead>\n",
              "<tbody>\n",
              "\t<tr><td>5605b66b-e92d-c16c-1b83-b8bf7040d51f</td><td>M</td><td>white </td><td>nonhispanic</td><td>F</td><td>1977-03-19</td><td>NA</td><td>Nikita </td><td>Erdman     </td><td>Quincy   </td><td>Massachusetts</td></tr>\n",
              "\t<tr><td>6e5ae27c-8038-7988-e2c0-25a103f01bfa</td><td>M</td><td>white </td><td>nonhispanic</td><td>M</td><td>1940-02-19</td><td>NA</td><td>Zane   </td><td>Hodkiewicz </td><td>Boston   </td><td>Massachusetts</td></tr>\n",
              "\t<tr><td>8123d076-0886-9007-e956-d5864aa121a7</td><td>M</td><td>white </td><td>nonhispanic</td><td>M</td><td>1958-06-04</td><td>NA</td><td>Quinn  </td><td>Marquardt  </td><td>Quincy   </td><td>Massachusetts</td></tr>\n",
              "\t<tr><td>770518e4-6133-648e-60c9-071eb2f0e2ce</td><td>M</td><td>white </td><td>hispanic   </td><td>M</td><td>1928-12-25</td><td>2017-09-29</td><td>Abel   </td><td>Smitham    </td><td>Boston   </td><td>Massachusetts</td></tr>\n",
              "\t<tr><td>f96addf5-81b9-0aab-7855-d208d3d352c5</td><td>M</td><td>white </td><td>hispanic   </td><td>M</td><td>1928-12-25</td><td>2014-02-23</td><td>Edwin  </td><td>Labadie    </td><td>Boston   </td><td>Massachusetts</td></tr>\n",
              "\t<tr><td>8e9650d1-788a-78f9-4a28-d08f7f95354a</td><td>M</td><td>white </td><td>hispanic   </td><td>M</td><td>1928-12-25</td><td>NA</td><td>Frankie</td><td>Oberbrunner</td><td>Boston   </td><td>Massachusetts</td></tr>\n",
              "\t<tr><td>183df435-4190-060e-8f8e-bf63c572b266</td><td>M</td><td>asian </td><td>nonhispanic</td><td>F</td><td>1957-11-08</td><td>NA</td><td>Eilene </td><td>Walsh      </td><td>Cambridge</td><td>Massachusetts</td></tr>\n",
              "\t<tr><td>720560d4-51da-c38c-ee90-c15935278df1</td><td>M</td><td>white </td><td>nonhispanic</td><td>M</td><td>1972-06-27</td><td>NA</td><td>Lowell </td><td>Price      </td><td>Quincy   </td><td>Massachusetts</td></tr>\n",
              "\t<tr><td>217851b0-5f47-d376-18b9-0fe4ba77207e</td><td>S</td><td>black </td><td>hispanic   </td><td>M</td><td>1954-03-06</td><td>NA</td><td>Adrian </td><td>Gleason    </td><td>Boston   </td><td>Massachusetts</td></tr>\n",
              "\t<tr><td>ff331e5c-ab16-e218-f39a-63e11de1ed75</td><td>M</td><td>native</td><td>hispanic   </td><td>M</td><td>1927-07-10</td><td>NA</td><td>Eugene </td><td>Abernathy  </td><td>Boston   </td><td>Massachusetts</td></tr>\n",
              "</tbody>\n",
              "</table>\n"
            ],
            "text/markdown": "\nA tibble: 10 × 11\n\n| ID &lt;chr&gt; | MARITAL &lt;chr&gt; | RACE &lt;chr&gt; | ETHNICITY &lt;chr&gt; | GENDER &lt;chr&gt; | BIRTHDATE &lt;date&gt; | DEATHDATE &lt;date&gt; | FIRST &lt;chr&gt; | LAST &lt;chr&gt; | CITY &lt;chr&gt; | STATE &lt;chr&gt; |\n|---|---|---|---|---|---|---|---|---|---|---|\n| 5605b66b-e92d-c16c-1b83-b8bf7040d51f | M | white  | nonhispanic | F | 1977-03-19 | NA | Nikita  | Erdman      | Quincy    | Massachusetts |\n| 6e5ae27c-8038-7988-e2c0-25a103f01bfa | M | white  | nonhispanic | M | 1940-02-19 | NA | Zane    | Hodkiewicz  | Boston    | Massachusetts |\n| 8123d076-0886-9007-e956-d5864aa121a7 | M | white  | nonhispanic | M | 1958-06-04 | NA | Quinn   | Marquardt   | Quincy    | Massachusetts |\n| 770518e4-6133-648e-60c9-071eb2f0e2ce | M | white  | hispanic    | M | 1928-12-25 | 2017-09-29 | Abel    | Smitham     | Boston    | Massachusetts |\n| f96addf5-81b9-0aab-7855-d208d3d352c5 | M | white  | hispanic    | M | 1928-12-25 | 2014-02-23 | Edwin   | Labadie     | Boston    | Massachusetts |\n| 8e9650d1-788a-78f9-4a28-d08f7f95354a | M | white  | hispanic    | M | 1928-12-25 | NA | Frankie | Oberbrunner | Boston    | Massachusetts |\n| 183df435-4190-060e-8f8e-bf63c572b266 | M | asian  | nonhispanic | F | 1957-11-08 | NA | Eilene  | Walsh       | Cambridge | Massachusetts |\n| 720560d4-51da-c38c-ee90-c15935278df1 | M | white  | nonhispanic | M | 1972-06-27 | NA | Lowell  | Price       | Quincy    | Massachusetts |\n| 217851b0-5f47-d376-18b9-0fe4ba77207e | S | black  | hispanic    | M | 1954-03-06 | NA | Adrian  | Gleason     | Boston    | Massachusetts |\n| ff331e5c-ab16-e218-f39a-63e11de1ed75 | M | native | hispanic    | M | 1927-07-10 | NA | Eugene  | Abernathy   | Boston    | Massachusetts |\n\n",
            "text/latex": "A tibble: 10 × 11\n\\begin{tabular}{lllllllllll}\n ID & MARITAL & RACE & ETHNICITY & GENDER & BIRTHDATE & DEATHDATE & FIRST & LAST & CITY & STATE\\\\\n <chr> & <chr> & <chr> & <chr> & <chr> & <date> & <date> & <chr> & <chr> & <chr> & <chr>\\\\\n\\hline\n\t 5605b66b-e92d-c16c-1b83-b8bf7040d51f & M & white  & nonhispanic & F & 1977-03-19 & NA & Nikita  & Erdman      & Quincy    & Massachusetts\\\\\n\t 6e5ae27c-8038-7988-e2c0-25a103f01bfa & M & white  & nonhispanic & M & 1940-02-19 & NA & Zane    & Hodkiewicz  & Boston    & Massachusetts\\\\\n\t 8123d076-0886-9007-e956-d5864aa121a7 & M & white  & nonhispanic & M & 1958-06-04 & NA & Quinn   & Marquardt   & Quincy    & Massachusetts\\\\\n\t 770518e4-6133-648e-60c9-071eb2f0e2ce & M & white  & hispanic    & M & 1928-12-25 & 2017-09-29 & Abel    & Smitham     & Boston    & Massachusetts\\\\\n\t f96addf5-81b9-0aab-7855-d208d3d352c5 & M & white  & hispanic    & M & 1928-12-25 & 2014-02-23 & Edwin   & Labadie     & Boston    & Massachusetts\\\\\n\t 8e9650d1-788a-78f9-4a28-d08f7f95354a & M & white  & hispanic    & M & 1928-12-25 & NA & Frankie & Oberbrunner & Boston    & Massachusetts\\\\\n\t 183df435-4190-060e-8f8e-bf63c572b266 & M & asian  & nonhispanic & F & 1957-11-08 & NA & Eilene  & Walsh       & Cambridge & Massachusetts\\\\\n\t 720560d4-51da-c38c-ee90-c15935278df1 & M & white  & nonhispanic & M & 1972-06-27 & NA & Lowell  & Price       & Quincy    & Massachusetts\\\\\n\t 217851b0-5f47-d376-18b9-0fe4ba77207e & S & black  & hispanic    & M & 1954-03-06 & NA & Adrian  & Gleason     & Boston    & Massachusetts\\\\\n\t ff331e5c-ab16-e218-f39a-63e11de1ed75 & M & native & hispanic    & M & 1927-07-10 & NA & Eugene  & Abernathy   & Boston    & Massachusetts\\\\\n\\end{tabular}\n",
            "text/plain": [
              "   ID                                   MARITAL RACE   ETHNICITY   GENDER\n",
              "1  5605b66b-e92d-c16c-1b83-b8bf7040d51f M       white  nonhispanic F     \n",
              "2  6e5ae27c-8038-7988-e2c0-25a103f01bfa M       white  nonhispanic M     \n",
              "3  8123d076-0886-9007-e956-d5864aa121a7 M       white  nonhispanic M     \n",
              "4  770518e4-6133-648e-60c9-071eb2f0e2ce M       white  hispanic    M     \n",
              "5  f96addf5-81b9-0aab-7855-d208d3d352c5 M       white  hispanic    M     \n",
              "6  8e9650d1-788a-78f9-4a28-d08f7f95354a M       white  hispanic    M     \n",
              "7  183df435-4190-060e-8f8e-bf63c572b266 M       asian  nonhispanic F     \n",
              "8  720560d4-51da-c38c-ee90-c15935278df1 M       white  nonhispanic M     \n",
              "9  217851b0-5f47-d376-18b9-0fe4ba77207e S       black  hispanic    M     \n",
              "10 ff331e5c-ab16-e218-f39a-63e11de1ed75 M       native hispanic    M     \n",
              "   BIRTHDATE  DEATHDATE  FIRST   LAST        CITY      STATE        \n",
              "1  1977-03-19 <NA>       Nikita  Erdman      Quincy    Massachusetts\n",
              "2  1940-02-19 <NA>       Zane    Hodkiewicz  Boston    Massachusetts\n",
              "3  1958-06-04 <NA>       Quinn   Marquardt   Quincy    Massachusetts\n",
              "4  1928-12-25 2017-09-29 Abel    Smitham     Boston    Massachusetts\n",
              "5  1928-12-25 2014-02-23 Edwin   Labadie     Boston    Massachusetts\n",
              "6  1928-12-25 <NA>       Frankie Oberbrunner Boston    Massachusetts\n",
              "7  1957-11-08 <NA>       Eilene  Walsh       Cambridge Massachusetts\n",
              "8  1972-06-27 <NA>       Lowell  Price       Quincy    Massachusetts\n",
              "9  1954-03-06 <NA>       Adrian  Gleason     Boston    Massachusetts\n",
              "10 1927-07-10 <NA>       Eugene  Abernathy   Boston    Massachusetts"
            ]
          },
          "metadata": {}
        }
      ]
    },
    {
      "cell_type": "markdown",
      "id": "c6f65807",
      "metadata": {
        "id": "c6f65807"
      },
      "source": [
        "### Question 9\n",
        "Using a for statement to loop through the categorical variables (excluding name and ID), print the counts of each unique value in descending order, using the mdpre() function for formatting."
      ]
    },
    {
      "cell_type": "code",
      "source": [
        "colnames_for_list <- c(\"MARITAL\", \"RACE\", \"ETHNICITY\", \"GENDER\", \"CITY\", \"STATE\")\n",
        "value_counts <- list()\n",
        "for (colname in colnames_for_list) {\n",
        "value_counts[[colname]] <- patients |>\n",
        "  group_by(across(all_of(colname))) |>\n",
        "  tally() |>\n",
        "  arrange(n)\n",
        "}\n",
        "\n",
        "mdpre(value_counts$MARITAL)\n",
        "mdpre(value_counts$RACE)\n",
        "mdpre(value_counts$ETHNICITY)\n",
        "mdpre(value_counts$GENDER)\n",
        "mdpre(value_counts$CITY)\n",
        "mdpre(value_counts$STATE)"
      ],
      "metadata": {
        "colab": {
          "base_uri": "https://localhost:8080/"
        },
        "id": "jGkVKU05po-O",
        "outputId": "ba2f72f3-dd9f-4cbc-d118-8e9e103187dc"
      },
      "id": "jGkVKU05po-O",
      "execution_count": 42,
      "outputs": [
        {
          "output_type": "stream",
          "name": "stdout",
          "text": [
            "\u001b[90m# A tibble: 5 × 2\u001b[39m\n",
            "  MARITAL     n\n",
            "  \u001b[3m\u001b[90m<chr>\u001b[39m\u001b[23m   \u001b[3m\u001b[90m<int>\u001b[39m\u001b[23m\n",
            "\u001b[90m1\u001b[39m Fine        1\n",
            "\u001b[90m2\u001b[39m male        1\n",
            "\u001b[90m3\u001b[39m \u001b[31mNA\u001b[39m          1\n",
            "\u001b[90m4\u001b[39m S         189\n",
            "\u001b[90m5\u001b[39m M         782\n",
            "\u001b[90m# A tibble: 7 × 2\u001b[39m\n",
            "  RACE         n\n",
            "  \u001b[3m\u001b[90m<chr>\u001b[39m\u001b[23m    \u001b[3m\u001b[90m<int>\u001b[39m\u001b[23m\n",
            "\u001b[90m1\u001b[39m asiann       1\n",
            "\u001b[90m2\u001b[39m native      11\n",
            "\u001b[90m3\u001b[39m hawaiian    13\n",
            "\u001b[90m4\u001b[39m other       16\n",
            "\u001b[90m5\u001b[39m asian       90\n",
            "\u001b[90m6\u001b[39m black      163\n",
            "\u001b[90m7\u001b[39m white      680\n",
            "\u001b[90m# A tibble: 4 × 2\u001b[39m\n",
            "  ETHNICITY       n\n",
            "  \u001b[3m\u001b[90m<chr>\u001b[39m\u001b[23m       \u001b[3m\u001b[90m<int>\u001b[39m\u001b[23m\n",
            "\u001b[90m1\u001b[39m hispani         1\n",
            "\u001b[90m2\u001b[39m nonhispani      2\n",
            "\u001b[90m3\u001b[39m hispanic      190\n",
            "\u001b[90m4\u001b[39m nonhispanic   781\n",
            "\u001b[90m# A tibble: 5 × 2\u001b[39m\n",
            "  GENDER     n\n",
            "  \u001b[3m\u001b[90m<chr>\u001b[39m\u001b[23m  \u001b[3m\u001b[90m<int>\u001b[39m\u001b[23m\n",
            "\u001b[90m1\u001b[39m Female     1\n",
            "\u001b[90m2\u001b[39m Male       1\n",
            "\u001b[90m3\u001b[39m female     1\n",
            "\u001b[90m4\u001b[39m F        478\n",
            "\u001b[90m5\u001b[39m M        493\n",
            "\u001b[90m# A tibble: 29 × 2\u001b[39m\n",
            "   CITY               n\n",
            "   \u001b[3m\u001b[90m<chr>\u001b[39m\u001b[23m          \u001b[3m\u001b[90m<int>\u001b[39m\u001b[23m\n",
            "\u001b[90m 1\u001b[39m Belmont            1\n",
            "\u001b[90m 2\u001b[39m Lynnfield          1\n",
            "\u001b[90m 3\u001b[39m Melrose            1\n",
            "\u001b[90m 4\u001b[39m Milton             1\n",
            "\u001b[90m 5\u001b[39m Norwell            1\n",
            "\u001b[90m 6\u001b[39m Waltham            1\n",
            "\u001b[90m 7\u001b[39m Watertown          1\n",
            "\u001b[90m 8\u001b[39m Winchester         1\n",
            "\u001b[90m 9\u001b[39m Reading            2\n",
            "\u001b[90m10\u001b[39m North Scituate     3\n",
            "\u001b[90m# ℹ 19 more rows\u001b[39m\n",
            "\u001b[90m# A tibble: 1 × 2\u001b[39m\n",
            "  STATE             n\n",
            "  \u001b[3m\u001b[90m<chr>\u001b[39m\u001b[23m         \u001b[3m\u001b[90m<int>\u001b[39m\u001b[23m\n",
            "\u001b[90m1\u001b[39m Massachusetts   974\n"
          ]
        }
      ]
    },
    {
      "cell_type": "markdown",
      "id": "9c872f41",
      "metadata": {
        "id": "9c872f41"
      },
      "source": [
        "### Question 10\n",
        "If you see any weird values, get rid of the ones that don't make sense, and combine the ones that are formatted wrong. Don't forget ot check the dates! Print the new tables for categorical values, and print the date ranges."
      ]
    },
    {
      "cell_type": "code",
      "source": [
        "patients$MARITAL <- if_else(patients$MARITAL == \"Fine\" | patients$MARITAL == \"male\", NA, patients$MARITAL)\n",
        "patients$RACE <- if_else(patients$RACE == \"asiann\", \"asian\", patients$RACE)\n",
        "patients$ETHNICITY <- if_else(patients$ETHNICITY == \"hispani\", \"hispanic\", patients$ETHNICITY)\n",
        "patients$ETHNICITY <- if_else(patients$ETHNICITY == \"nonhispani\", \"nonhispanic\", patients$ETHNICITY)\n",
        "patients$GENDER <- if_else(patients$GENDER == \"Female\" | patients$GENDER == \"female\" | patients$GENDER == \"F\", \"F\", \"M\")\n"
      ],
      "metadata": {
        "id": "hHQHgNWJsCNa"
      },
      "id": "hHQHgNWJsCNa",
      "execution_count": 48,
      "outputs": []
    },
    {
      "cell_type": "code",
      "source": [
        "colnames_for_list <- c(\"MARITAL\", \"RACE\", \"ETHNICITY\", \"GENDER\", \"CITY\", \"STATE\")\n",
        "value_counts <- list()\n",
        "for (colname in colnames_for_list) {\n",
        "value_counts[[colname]] <- patients |>\n",
        "  group_by(across(all_of(colname))) |>\n",
        "  tally() |>\n",
        "  arrange(n)\n",
        "}\n",
        "\n",
        "mdpre(value_counts$MARITAL)\n",
        "mdpre(value_counts$RACE)\n",
        "mdpre(value_counts$ETHNICITY)\n",
        "mdpre(value_counts$GENDER)\n",
        "mdpre(value_counts$CITY)\n",
        "mdpre(value_counts$STATE)\n",
        "\n",
        "# Print the date ranges\n",
        "print(\"Date range for BIRTHDATE:\")\n",
        "range(patients$BIRTHDATE, na.rm = TRUE)\n",
        "\n",
        "print(\"Date range for DEATHDATE:\")\n",
        "range(patients$DEATHDATE, na.rm = TRUE)"
      ],
      "metadata": {
        "colab": {
          "base_uri": "https://localhost:8080/",
          "height": 856
        },
        "id": "I6m1fzGQunMR",
        "outputId": "5bc68ad6-84be-46d3-8e29-0972c2b8aa0a"
      },
      "id": "I6m1fzGQunMR",
      "execution_count": 50,
      "outputs": [
        {
          "output_type": "stream",
          "name": "stdout",
          "text": [
            "\u001b[90m# A tibble: 3 × 2\u001b[39m\n",
            "  MARITAL     n\n",
            "  \u001b[3m\u001b[90m<chr>\u001b[39m\u001b[23m   \u001b[3m\u001b[90m<int>\u001b[39m\u001b[23m\n",
            "\u001b[90m1\u001b[39m \u001b[31mNA\u001b[39m          3\n",
            "\u001b[90m2\u001b[39m S         189\n",
            "\u001b[90m3\u001b[39m M         782\n",
            "\u001b[90m# A tibble: 6 × 2\u001b[39m\n",
            "  RACE         n\n",
            "  \u001b[3m\u001b[90m<chr>\u001b[39m\u001b[23m    \u001b[3m\u001b[90m<int>\u001b[39m\u001b[23m\n",
            "\u001b[90m1\u001b[39m native      11\n",
            "\u001b[90m2\u001b[39m hawaiian    13\n",
            "\u001b[90m3\u001b[39m other       16\n",
            "\u001b[90m4\u001b[39m asian       91\n",
            "\u001b[90m5\u001b[39m black      163\n",
            "\u001b[90m6\u001b[39m white      680\n",
            "\u001b[90m# A tibble: 2 × 2\u001b[39m\n",
            "  ETHNICITY       n\n",
            "  \u001b[3m\u001b[90m<chr>\u001b[39m\u001b[23m       \u001b[3m\u001b[90m<int>\u001b[39m\u001b[23m\n",
            "\u001b[90m1\u001b[39m hispanic      191\n",
            "\u001b[90m2\u001b[39m nonhispanic   783\n",
            "\u001b[90m# A tibble: 2 × 2\u001b[39m\n",
            "  GENDER     n\n",
            "  \u001b[3m\u001b[90m<chr>\u001b[39m\u001b[23m  \u001b[3m\u001b[90m<int>\u001b[39m\u001b[23m\n",
            "\u001b[90m1\u001b[39m F        480\n",
            "\u001b[90m2\u001b[39m M        494\n",
            "\u001b[90m# A tibble: 29 × 2\u001b[39m\n",
            "   CITY               n\n",
            "   \u001b[3m\u001b[90m<chr>\u001b[39m\u001b[23m          \u001b[3m\u001b[90m<int>\u001b[39m\u001b[23m\n",
            "\u001b[90m 1\u001b[39m Belmont            1\n",
            "\u001b[90m 2\u001b[39m Lynnfield          1\n",
            "\u001b[90m 3\u001b[39m Melrose            1\n",
            "\u001b[90m 4\u001b[39m Milton             1\n",
            "\u001b[90m 5\u001b[39m Norwell            1\n",
            "\u001b[90m 6\u001b[39m Waltham            1\n",
            "\u001b[90m 7\u001b[39m Watertown          1\n",
            "\u001b[90m 8\u001b[39m Winchester         1\n",
            "\u001b[90m 9\u001b[39m Reading            2\n",
            "\u001b[90m10\u001b[39m North Scituate     3\n",
            "\u001b[90m# ℹ 19 more rows\u001b[39m\n",
            "\u001b[90m# A tibble: 1 × 2\u001b[39m\n",
            "  STATE             n\n",
            "  \u001b[3m\u001b[90m<chr>\u001b[39m\u001b[23m         \u001b[3m\u001b[90m<int>\u001b[39m\u001b[23m\n",
            "\u001b[90m1\u001b[39m Massachusetts   974\n",
            "[1] \"Date range for BIRTHDATE:\"\n"
          ]
        },
        {
          "output_type": "display_data",
          "data": {
            "text/html": [
              "<style>\n",
              ".list-inline {list-style: none; margin:0; padding: 0}\n",
              ".list-inline>li {display: inline-block}\n",
              ".list-inline>li:not(:last-child)::after {content: \"\\00b7\"; padding: 0 .5ex}\n",
              "</style>\n",
              "<ol class=list-inline><li><time datetime=\"1925-11-16\">1925-11-16</time></li><li><time datetime=\"2025-08-12\">2025-08-12</time></li></ol>\n"
            ],
            "text/markdown": "1. 1925-11-16\n2. 2025-08-12\n\n\n",
            "text/latex": "\\begin{enumerate*}\n\\item 1925-11-16\n\\item 2025-08-12\n\\end{enumerate*}\n",
            "text/plain": [
              "[1] \"1925-11-16\" \"2025-08-12\""
            ]
          },
          "metadata": {}
        },
        {
          "output_type": "stream",
          "name": "stdout",
          "text": [
            "[1] \"Date range for DEATHDATE:\"\n"
          ]
        },
        {
          "output_type": "display_data",
          "data": {
            "text/html": [
              "<style>\n",
              ".list-inline {list-style: none; margin:0; padding: 0}\n",
              ".list-inline>li {display: inline-block}\n",
              ".list-inline>li:not(:last-child)::after {content: \"\\00b7\"; padding: 0 .5ex}\n",
              "</style>\n",
              "<ol class=list-inline><li><time datetime=\"2011-02-03\">2011-02-03</time></li><li><time datetime=\"2022-01-27\">2022-01-27</time></li></ol>\n"
            ],
            "text/markdown": "1. 2011-02-03\n2. 2022-01-27\n\n\n",
            "text/latex": "\\begin{enumerate*}\n\\item 2011-02-03\n\\item 2022-01-27\n\\end{enumerate*}\n",
            "text/plain": [
              "[1] \"2011-02-03\" \"2022-01-27\""
            ]
          },
          "metadata": {}
        }
      ]
    },
    {
      "cell_type": "markdown",
      "id": "b4c83785",
      "metadata": {
        "id": "b4c83785"
      },
      "source": [
        "### Question 11\n",
        "Make a histogram of the ages of patients by gender."
      ]
    },
    {
      "cell_type": "code",
      "source": [
        "# Calculate age\n",
        "patients <- patients |>\n",
        "  mutate(AGE = as.numeric(difftime(Sys.Date(), BIRTHDATE, units = \"weeks\")/52.25))\n",
        "\n",
        "# Make a histogram of ages by gender\n",
        "ggplot(patients, aes(x = AGE, fill = GENDER)) +\n",
        "  geom_histogram(binwidth = 5) +\n",
        "  labs(title = \"Distribution of Patient Ages by Gender\",\n",
        "       x = \"Age (years)\",\n",
        "       y = \"Count\")"
      ],
      "metadata": {
        "colab": {
          "base_uri": "https://localhost:8080/",
          "height": 437
        },
        "id": "HG6UPFJXvIkA",
        "outputId": "9b97c660-3256-4fa4-fb9d-9ddf5c2c01b2"
      },
      "id": "HG6UPFJXvIkA",
      "execution_count": 57,
      "outputs": [
        {
          "output_type": "display_data",
          "data": {
            "text/plain": [
              "plot without title"
            ],
            "image/png": "[encoded data removed]"
          },
          "metadata": {
            "image/png": {
              "width": 420,
              "height": 420
            }
          }
        }
      ]
    },
    {
      "cell_type": "markdown",
      "id": "e41b7170",
      "metadata": {
        "id": "e41b7170"
      },
      "source": [
        "### Question 12\n",
        "Make a scatterplot of birthdate by martial status."
      ]
    },
    {
      "cell_type": "code",
      "source": [
        "ggplot(patients, aes(x = BIRTHDATE, y = MARITAL)) +\n",
        "  geom_point() +\n",
        "  labs(title = \"Distribution of birthdays by marital status\",\n",
        "        x = \"Birthdate\",\n",
        "        y = \"Marital Status\")"
      ],
      "metadata": {
        "colab": {
          "base_uri": "https://localhost:8080/",
          "height": 437
        },
        "id": "RNotmsoAwxdR",
        "outputId": "98a18ce8-5043-4af3-c968-2b1fa69e862c"
      },
      "id": "RNotmsoAwxdR",
      "execution_count": 58,
      "outputs": [
        {
          "output_type": "display_data",
          "data": {
            "text/plain": [
              "plot without title"
            ],
            "image/png": "[encoded data removed]"
          },
          "metadata": {
            "image/png": {
              "width": 420,
              "height": 420
            }
          }
        }
      ]
    }
  ],
  "metadata": {
    "kernelspec": {
      "display_name": "R",
      "language": "R",
      "name": "ir"
    },
    "language_info": {
      "codemirror_mode": "r",
      "file_extension": ".r",
      "mimetype": "text/x-r-source",
      "name": "R",
      "pygments_lexer": "r",
      "version": "4.4.3"
    },
    "colab": {
      "provenance": []
    }
  },
  "nbformat": 4,
  "nbformat_minor": 5
}